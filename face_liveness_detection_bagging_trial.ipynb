{
  "nbformat": 4,
  "nbformat_minor": 0,
  "metadata": {
    "colab": {
      "name": "face_liveness_detection.ipynb",
      "provenance": [],
      "authorship_tag": "ABX9TyO4yYaLWZnalm5LB9VyKniZ",
      "include_colab_link": true
    },
    "kernelspec": {
      "name": "python3",
      "display_name": "Python 3"
    },
    "accelerator": "GPU"
  },
  "cells": [
    {
      "cell_type": "markdown",
      "metadata": {
        "id": "view-in-github",
        "colab_type": "text"
      },
      "source": [
        "<a href=\"https://colab.research.google.com/github/XqsZX/face_liveness_detection/blob/master/face_liveness_detection_bagging_trial.ipynb\" target=\"_parent\"><img src=\"https://colab.research.google.com/assets/colab-badge.svg\" alt=\"Open In Colab\"/></a>"
      ]
    },
    {
      "cell_type": "markdown",
      "metadata": {
        "id": "66bPPZgy-RQP"
      },
      "source": [
        "# 导入包\n",
        "该os软件包用于读取文件和目录结构，NumPy用于将python列表转换为numpy数组，并执行所需的矩阵运算，matplotlib.pyplot并在训练和验证数据中绘制图形并显示图像。导入Tensorflow和构建模型所需的Keras类。"
      ]
    },
    {
      "cell_type": "code",
      "metadata": {
        "id": "LN8632Xw-Zde"
      },
      "source": [
        "import tensorflow as tf\n",
        "\n",
        "from tensorflow.keras.models import Sequential\n",
        "from tensorflow.keras.layers import Dense, Conv2D, Flatten, Dropout, MaxPooling2D\n",
        "from tensorflow.keras.preprocessing.image import ImageDataGenerator\n",
        "\n",
        "import os\n",
        "import numpy as np\n",
        "import matplotlib.pyplot as plt"
      ],
      "execution_count": 1,
      "outputs": []
    },
    {
      "cell_type": "markdown",
      "metadata": {
        "id": "PBB6-BYQ_uen"
      },
      "source": [
        "# 载入资料\n",
        "本次实验直接采用真实人脸和照片人脸直接进行CNN卷积，只是一次尝试。\n",
        "首先我们登录谷歌云盘，来导入数据"
      ]
    },
    {
      "cell_type": "code",
      "metadata": {
        "id": "40pu9Oj8DW4c",
        "outputId": "f8890c21-0086-485e-bd41-65a446e045ef",
        "colab": {
          "base_uri": "https://localhost:8080/",
          "height": 34
        }
      },
      "source": [
        "import os\n",
        "from google.colab import drive\n",
        "drive.mount('/content/drive')"
      ],
      "execution_count": 2,
      "outputs": [
        {
          "output_type": "stream",
          "text": [
            "Mounted at /content/drive\n"
          ],
          "name": "stdout"
        }
      ]
    },
    {
      "cell_type": "markdown",
      "metadata": {
        "id": "5SswK5UzDyXO"
      },
      "source": [
        "对数据进行导入"
      ]
    },
    {
      "cell_type": "code",
      "metadata": {
        "id": "M57WwvU9Grji"
      },
      "source": [
        "PATH = os.path.join('/content/drive/My Drive/', 'data')\n",
        "PATH_1 = os.path.join('/content/drive/My Drive/', 'data_1')\n",
        "PATH_2 = os.path.join('/content/drive/My Drive/', 'data_2')"
      ],
      "execution_count": 3,
      "outputs": []
    },
    {
      "cell_type": "markdown",
      "metadata": {
        "id": "T6L0yoVXIB7p"
      },
      "source": [
        "**数据集具有以下目录结构：**\n",
        "```cats_and_dogs_filtered\n",
        "|__ train\n",
        "    |______ real: []\n",
        "    |______ fake: []\n",
        "|__ validation\n",
        "    |______ real: []\n",
        "    |______ fake: []\n",
        "```\n",
        "提取其内容后，为变量分配适当的文件路径以用于训练和验证集。\n"
      ]
    },
    {
      "cell_type": "code",
      "metadata": {
        "id": "2iE01qpDIij8"
      },
      "source": [
        "train_dir = os.path.join(PATH, 'train')\n",
        "validation_dir = os.path.join(PATH, 'validation')\n",
        "\n",
        "train_real_dir = os.path.join(train_dir, 'real')  # directory with our training real pictures\n",
        "train_fake_dir = os.path.join(train_dir, 'fake')  # directory with our training fake pictures\n",
        "\n",
        "validation_real_dir = os.path.join(validation_dir, 'real')  # directory with our validation real pictures\n",
        "validation_fake_dir = os.path.join(validation_dir, 'fake')  # directory with our validation fake pictures"
      ],
      "execution_count": 4,
      "outputs": []
    },
    {
      "cell_type": "code",
      "metadata": {
        "id": "UGg0v3G0him5"
      },
      "source": [
        "train_dir_1 = os.path.join(PATH_1, 'train')\n",
        "validation_dir_1 = os.path.join(PATH_1, 'validation')\n",
        "\n",
        "train_real_dir_1 = os.path.join(train_dir_1, 'real')  # directory with our training real pictures\n",
        "train_fake_dir_1 = os.path.join(train_dir_1, 'fake')  # directory with our training fake pictures\n",
        "\n",
        "validation_real_dir_1 = os.path.join(validation_dir_1, 'real')  # directory with our validation real pictures\n",
        "validation_fake_dir_1 = os.path.join(validation_dir_1, 'fake')  # directory with our validation fake pictures"
      ],
      "execution_count": null,
      "outputs": []
    },
    {
      "cell_type": "code",
      "metadata": {
        "id": "twrgIh5XhjVI"
      },
      "source": [
        "train_dir_2 = os.path.join(PATH_2, 'train')\n",
        "validation_dir_2 = os.path.join(PATH_2, 'validation')\n",
        "\n",
        "train_real_dir_2 = os.path.join(train_dir_2, 'real')  # directory with our training real pictures\n",
        "train_fake_dir_2 = os.path.join(train_dir_2, 'fake')  # directory with our training fake pictures\n",
        "\n",
        "validation_real_dir_2 = os.path.join(validation_dir_2, 'real')  # directory with our validation real pictures\n",
        "validation_fake_dir_2 = os.path.join(validation_dir_2, 'fake')  # directory with our validation fake pictures"
      ],
      "execution_count": null,
      "outputs": []
    },
    {
      "cell_type": "markdown",
      "metadata": {
        "id": "_W835ad0JA9A"
      },
      "source": [
        "# 了解数据\n",
        "让我们看看训练和验证目录中有多少真实和虚假的图像："
      ]
    },
    {
      "cell_type": "code",
      "metadata": {
        "id": "PE9k6WtaJCeC",
        "outputId": "3d159985-7ad6-400e-962d-0a4cddc4c6e6",
        "colab": {
          "base_uri": "https://localhost:8080/",
          "height": 134
        }
      },
      "source": [
        "num_real_tr = len(os.listdir(train_real_dir))\n",
        "num_fake_tr = len(os.listdir(train_fake_dir))\n",
        "\n",
        "num_real_val = len(os.listdir(validation_real_dir))\n",
        "num_fake_val = len(os.listdir(validation_fake_dir))\n",
        "\n",
        "total_train = num_real_tr + num_fake_tr\n",
        "total_val = num_real_val + num_fake_val\n",
        "\n",
        "print('total training real images:', num_real_tr)\n",
        "print('total training fake images:', num_fake_tr)\n",
        "\n",
        "print('total validation real images:', num_real_val)\n",
        "print('total validation fake images:', num_fake_val)\n",
        "print(\"--\")\n",
        "print(\"Total training images:\", total_train)\n",
        "print(\"Total validation images:\", total_val)"
      ],
      "execution_count": 6,
      "outputs": [
        {
          "output_type": "stream",
          "text": [
            "total training real images: 3128\n",
            "total training fake images: 5293\n",
            "total validation real images: 1987\n",
            "total validation fake images: 2216\n",
            "--\n",
            "Total training images: 8421\n",
            "Total validation images: 4203\n"
          ],
          "name": "stdout"
        }
      ]
    },
    {
      "cell_type": "code",
      "metadata": {
        "id": "vOGihdjflT7I"
      },
      "source": [
        "num_real_tr_1 = len(os.listdir(train_real_dir_1))\n",
        "num_fake_tr_1 = len(os.listdir(train_fake_dir_1))\n",
        "\n",
        "num_real_val_1 = len(os.listdir(validation_real_dir_1))\n",
        "num_fake_val_1 = len(os.listdir(validation_fake_dir_1))\n",
        "\n",
        "total_train_1 = num_real_tr_1 + num_fake_tr_1\n",
        "total_val_1 = num_real_val_1 + num_fake_val_1\n",
        "\n",
        "print('total training real images of 1:', num_real_tr_1)\n",
        "print('total training fake images of 1:', num_fake_tr_1)\n",
        "\n",
        "print('total validation real images of 1:', num_real_val_1)\n",
        "print('total validation fake images of 1:', num_fake_val_1)\n",
        "print(\"--\")\n",
        "print(\"Total training images of 1:\", total_train_1)\n",
        "print(\"Total validation images of 1:\", total_val_1)"
      ],
      "execution_count": null,
      "outputs": []
    },
    {
      "cell_type": "code",
      "metadata": {
        "id": "YZUb4ZsVlU5j"
      },
      "source": [
        "num_real_tr_2 = len(os.listdir(train_real_dir_2))\n",
        "num_fake_tr_2 = len(os.listdir(train_fake_dir_2))\n",
        "\n",
        "num_real_val_2 = len(os.listdir(validation_real_dir_2))\n",
        "num_fake_val_2 = len(os.listdir(validation_fake_dir_2))\n",
        "\n",
        "total_train_2 = num_real_tr_2 + num_fake_tr_2\n",
        "total_val_2 = num_real_val_2 + num_fake_val_2\n",
        "\n",
        "print('total training real images of 2:', num_real_tr_2)\n",
        "print('total training fake images of 2:', num_fake_tr_2)\n",
        "\n",
        "print('total validation real images of 2:', num_real_val_2)\n",
        "print('total validation fake images of 2:', num_fake_val_2)\n",
        "print(\"--\")\n",
        "print(\"Total training images of 2:\", total_train_2)\n",
        "print(\"Total validation images of 2:\", total_val_2)"
      ],
      "execution_count": null,
      "outputs": []
    },
    {
      "cell_type": "markdown",
      "metadata": {
        "id": "mAmtfdaCJ97k"
      },
      "source": [
        "为了方便起见，设置变量以在预处理数据集和训练网络时使用。"
      ]
    },
    {
      "cell_type": "code",
      "metadata": {
        "id": "RhApgOrFKAqA"
      },
      "source": [
        "batch_size = 128\n",
        "epochs = 15\n",
        "IMG_HEIGHT = 150\n",
        "IMG_WIDTH = 150"
      ],
      "execution_count": 7,
      "outputs": []
    },
    {
      "cell_type": "markdown",
      "metadata": {
        "id": "Wcd6joxnKC0W"
      },
      "source": [
        "# 资料准备\n",
        "将图像格式化为经过适当预处理的浮点张量，然后再馈入网络：\n",
        "\n",
        "1. 从磁盘读取图像\n",
        "2. 解码这些图像的内同，并根据其RGB内容将其转换为正确的网格格式\n",
        "3. 将它们转换为浮点张量\n",
        "4. 将张量从0到255之间的值重新缩放为0到1之间的值，因为神经网络更喜欢处理较小的输入值\n",
        "\n",
        "\n",
        "解码这些图像的内容，并根据其RGB内容将其转换为正确的网格格式。\n",
        "将它们转换为浮点张量。\n",
        "将张量从0到255之间的值重新缩放为0到1之间的值，因为神经网络更喜欢处理较小的输入值。\n",
        "幸运的是，所有这些任务都可以通过提供的ImageDataGenerator类来完成tf.keras。它可以从磁盘读取图像并将其预处理为适当的张量。它还将设置将这些图像转换成张量的生成器，这对于训练网络很有帮助。"
      ]
    },
    {
      "cell_type": "markdown",
      "metadata": {
        "id": "loyk0c-VnRdI"
      },
      "source": [
        "训练量很少时，通常会发生过度拟合。解决此问题的一种方法是扩充数据集，使其具有足够数量的训练示例。数据增强采用通过使用产生真实感图像的随机变换增强样本来从现有训练样本生成更多训练数据的方法。目标是模型在训练期间永远不会看到两次完全相同的图片。这有助于使模型暴露于数据的更多方面，并且可以更好地进行概括。\n",
        "\n",
        "tf.keras使用ImageDataGenerator类来实现这一点。将不同的转换传递给数据集，它将在训练过程中加以应用。\n",
        "对训练图像进行重新缩放，45度旋转，宽度偏移，高度偏移，水平翻转和缩放增强。防止出现过拟合的情况"
      ]
    },
    {
      "cell_type": "code",
      "metadata": {
        "id": "cYJ89CmCnhfN",
        "outputId": "9e836fea-bfda-49eb-8aa3-03e48050192f",
        "colab": {
          "base_uri": "https://localhost:8080/",
          "height": 34
        }
      },
      "source": [
        "image_gen_train = ImageDataGenerator(rescale=1./255,rotation_range=45,width_shift_range=.15,height_shift_range=.15,horizontal_flip=True,zoom_range=0.5)\n",
        "train_data_gen = image_gen_train.flow_from_directory(batch_size=batch_size,directory=train_dir,shuffle=True,target_size=(IMG_HEIGHT, IMG_WIDTH),class_mode='binary')"
      ],
      "execution_count": 8,
      "outputs": [
        {
          "output_type": "stream",
          "text": [
            "Found 8421 images belonging to 2 classes.\n"
          ],
          "name": "stdout"
        }
      ]
    },
    {
      "cell_type": "code",
      "metadata": {
        "id": "4-m55G2zo3AW",
        "outputId": "9e836fea-bfda-49eb-8aa3-03e48050192f",
        "colab": {
          "base_uri": "https://localhost:8080/",
          "height": 34
        }
      },
      "source": [
        "train_data_gen_1 = image_gen_train.flow_from_directory(batch_size=batch_size,directory=train_dir_1,shuffle=True,target_size=(IMG_HEIGHT, IMG_WIDTH),class_mode='binary')"
      ],
      "execution_count": null,
      "outputs": [
        {
          "output_type": "stream",
          "text": [
            "Found 8421 images belonging to 2 classes.\n"
          ],
          "name": "stdout"
        }
      ]
    },
    {
      "cell_type": "code",
      "metadata": {
        "id": "iu8a6wZho2dr",
        "outputId": "9e836fea-bfda-49eb-8aa3-03e48050192f",
        "colab": {
          "base_uri": "https://localhost:8080/",
          "height": 34
        }
      },
      "source": [
        "train_data_gen_2 = image_gen_train.flow_from_directory(batch_size=batch_size,directory=train_dir_2,shuffle=True,target_size=(IMG_HEIGHT, IMG_WIDTH),class_mode='binary')"
      ],
      "execution_count": null,
      "outputs": [
        {
          "output_type": "stream",
          "text": [
            "Found 8421 images belonging to 2 classes.\n"
          ],
          "name": "stdout"
        }
      ]
    },
    {
      "cell_type": "markdown",
      "metadata": {
        "id": "JdfU_oJPsFZL"
      },
      "source": [
        "**创建验证数据生成器**\n",
        "\n",
        "通常，仅将数据扩充应用于训练示例。在这种情况下，仅重新缩放验证图像，然后使用将它们转换为批次ImageDataGenerator。"
      ]
    },
    {
      "cell_type": "code",
      "metadata": {
        "id": "0tBSQU9vsLtF",
        "outputId": "f63adcc3-36bb-4a88-963b-036901f4a1a0",
        "colab": {
          "base_uri": "https://localhost:8080/",
          "height": 34
        }
      },
      "source": [
        "image_gen_val = ImageDataGenerator(rescale=1./255)\n",
        "val_data_gen = image_gen_val.flow_from_directory(batch_size=batch_size,directory=validation_dir,target_size=(IMG_HEIGHT, IMG_WIDTH),class_mode='binary')"
      ],
      "execution_count": 9,
      "outputs": [
        {
          "output_type": "stream",
          "text": [
            "Found 4203 images belonging to 2 classes.\n"
          ],
          "name": "stdout"
        }
      ]
    },
    {
      "cell_type": "code",
      "metadata": {
        "id": "TygMpjbRpFMd"
      },
      "source": [
        "val_data_gen_1 = image_gen_val.flow_from_directory(batch_size=batch_size,directory=validation_dir_1,target_size=(IMG_HEIGHT, IMG_WIDTH),class_mode='binary')"
      ],
      "execution_count": null,
      "outputs": []
    },
    {
      "cell_type": "code",
      "metadata": {
        "id": "N5Fvcc9jpF3F"
      },
      "source": [
        "val_data_gen_2 = image_gen_val.flow_from_directory(batch_size=batch_size,directory=validation_dir_2,target_size=(IMG_HEIGHT, IMG_WIDTH),class_mode='binary')"
      ],
      "execution_count": null,
      "outputs": []
    },
    {
      "cell_type": "markdown",
      "metadata": {
        "id": "hfLYQqJ1ug5T"
      },
      "source": [
        "# 构建神经网络\n",
        "减少过度拟合的另一种技术是将丢失引入网络。这是一种正则化形式，它迫使网络中的权重仅取较小的值，这使得权重值的分配更加规则，并且网络可以减少在小的训练样本上的过度拟合。\n",
        "\n",
        "当您在图层上应用滤除时，它会在训练过程中从所应用的图层中随机滤除（设置为零）数量的输出单位。dropout采用分数形式作为其输入值，形式为0.1、0.2、0.4等。这意味着从所施加的层中随机退出输出单元的10％，20％或40％。将0.1的dropout应用于某个图层时，它会在每个训练时期随机杀死10％的输出单位。使用此新的dropout功能创建网络体系结构，并将其应用于不同的卷积和完全连接的层。"
      ]
    },
    {
      "cell_type": "code",
      "metadata": {
        "id": "6-YNsBxnznUo"
      },
      "source": [
        "model = Sequential([\n",
        "    Conv2D(16, 3, padding='same', activation='relu', \n",
        "           input_shape=(IMG_HEIGHT, IMG_WIDTH ,3)),\n",
        "    MaxPooling2D(),\n",
        "    Dropout(0.2),\n",
        "    Conv2D(32, 3, padding='same', activation='relu'),\n",
        "    MaxPooling2D(),\n",
        "    Conv2D(64, 3, padding='same', activation='relu'),\n",
        "    MaxPooling2D(),\n",
        "    Dropout(0.2),\n",
        "    Flatten(),\n",
        "    Dense(512, activation='relu'),\n",
        "    Dense(1)\n",
        "])"
      ],
      "execution_count": 10,
      "outputs": []
    },
    {
      "cell_type": "code",
      "metadata": {
        "id": "qI62u__OpYVd"
      },
      "source": [
        "model_1 = Sequential([\n",
        "    Conv2D(16, 3, padding='same', activation='relu', \n",
        "           input_shape=(IMG_HEIGHT, IMG_WIDTH ,3)),\n",
        "    MaxPooling2D(),\n",
        "    Dropout(0.2),\n",
        "    Conv2D(32, 3, padding='same', activation='relu'),\n",
        "    MaxPooling2D(),\n",
        "    Conv2D(64, 3, padding='same', activation='relu'),\n",
        "    MaxPooling2D(),\n",
        "    Dropout(0.2),\n",
        "    Flatten(),\n",
        "    Dense(512, activation='relu'),\n",
        "    Dense(1)\n",
        "])"
      ],
      "execution_count": null,
      "outputs": []
    },
    {
      "cell_type": "code",
      "metadata": {
        "id": "1MuP_KaypZH4"
      },
      "source": [
        "model_2 = Sequential([\n",
        "    Conv2D(16, 3, padding='same', activation='relu', \n",
        "           input_shape=(IMG_HEIGHT, IMG_WIDTH ,3)),\n",
        "    MaxPooling2D(),\n",
        "    Dropout(0.2),\n",
        "    Conv2D(32, 3, padding='same', activation='relu'),\n",
        "    MaxPooling2D(),\n",
        "    Conv2D(64, 3, padding='same', activation='relu'),\n",
        "    MaxPooling2D(),\n",
        "    Dropout(0.2),\n",
        "    Flatten(),\n",
        "    Dense(512, activation='relu'),\n",
        "    Dense(1)\n",
        "])"
      ],
      "execution_count": null,
      "outputs": []
    },
    {
      "cell_type": "markdown",
      "metadata": {
        "id": "qN7Z7YaJz77X"
      },
      "source": [
        "# 编译模型\n",
        "将dropout引入网络后，编译模型并查看图层摘要。"
      ]
    },
    {
      "cell_type": "code",
      "metadata": {
        "id": "nrpadyhez9jl",
        "outputId": "1f1b0265-e8dd-486b-a4ab-9d2cb3c23fb4",
        "colab": {
          "base_uri": "https://localhost:8080/",
          "height": 521
        }
      },
      "source": [
        "model.compile(optimizer='adam',loss=tf.keras.losses.BinaryCrossentropy(from_logits=True),metrics=['accuracy'])\n",
        "model.summary()"
      ],
      "execution_count": 11,
      "outputs": [
        {
          "output_type": "stream",
          "text": [
            "Model: \"sequential\"\n",
            "_________________________________________________________________\n",
            "Layer (type)                 Output Shape              Param #   \n",
            "=================================================================\n",
            "conv2d (Conv2D)              (None, 150, 150, 16)      448       \n",
            "_________________________________________________________________\n",
            "max_pooling2d (MaxPooling2D) (None, 75, 75, 16)        0         \n",
            "_________________________________________________________________\n",
            "dropout (Dropout)            (None, 75, 75, 16)        0         \n",
            "_________________________________________________________________\n",
            "conv2d_1 (Conv2D)            (None, 75, 75, 32)        4640      \n",
            "_________________________________________________________________\n",
            "max_pooling2d_1 (MaxPooling2 (None, 37, 37, 32)        0         \n",
            "_________________________________________________________________\n",
            "conv2d_2 (Conv2D)            (None, 37, 37, 64)        18496     \n",
            "_________________________________________________________________\n",
            "max_pooling2d_2 (MaxPooling2 (None, 18, 18, 64)        0         \n",
            "_________________________________________________________________\n",
            "dropout_1 (Dropout)          (None, 18, 18, 64)        0         \n",
            "_________________________________________________________________\n",
            "flatten (Flatten)            (None, 20736)             0         \n",
            "_________________________________________________________________\n",
            "dense (Dense)                (None, 512)               10617344  \n",
            "_________________________________________________________________\n",
            "dense_1 (Dense)              (None, 1)                 513       \n",
            "=================================================================\n",
            "Total params: 10,641,441\n",
            "Trainable params: 10,641,441\n",
            "Non-trainable params: 0\n",
            "_________________________________________________________________\n"
          ],
          "name": "stdout"
        }
      ]
    },
    {
      "cell_type": "code",
      "metadata": {
        "id": "SDYTcqDJppoc"
      },
      "source": [
        "model_1.compile(optimizer='adam',loss=tf.keras.losses.BinaryCrossentropy(from_logits=True),metrics=['accuracy'])\n",
        "model_1.summary()"
      ],
      "execution_count": null,
      "outputs": []
    },
    {
      "cell_type": "code",
      "metadata": {
        "id": "P6JfFVetpsUQ"
      },
      "source": [
        "model_2.compile(optimizer='adam',loss=tf.keras.losses.BinaryCrossentropy(from_logits=True),metrics=['accuracy'])\n",
        "model_2.summary()"
      ],
      "execution_count": null,
      "outputs": []
    },
    {
      "cell_type": "markdown",
      "metadata": {
        "id": "0e5YfHV61EWM"
      },
      "source": [
        "# 训练模型\n",
        "在将数据扩充成功地引入到训练示例并向网络中添加了dropout之后，训练这个新网络："
      ]
    },
    {
      "cell_type": "code",
      "metadata": {
        "id": "gYRViPrL2DAT",
        "outputId": "97a20136-c439-452f-8c57-7957c69b3ef7",
        "colab": {
          "base_uri": "https://localhost:8080/",
          "height": 571
        }
      },
      "source": [
        "trained_model = model.fit_generator(\n",
        "    train_data_gen,\n",
        "    steps_per_epoch=total_train // batch_size,\n",
        "    epochs=epochs,\n",
        "    validation_data=val_data_gen,\n",
        "    validation_steps=total_val // batch_size\n",
        ")"
      ],
      "execution_count": 12,
      "outputs": [
        {
          "output_type": "stream",
          "text": [
            "WARNING:tensorflow:From <ipython-input-12-2401ab36538a>:6: Model.fit_generator (from tensorflow.python.keras.engine.training) is deprecated and will be removed in a future version.\n",
            "Instructions for updating:\n",
            "Please use Model.fit, which supports generators.\n",
            "Epoch 1/15\n",
            "65/65 [==============================] - 3719s 57s/step - loss: 0.6812 - accuracy: 0.6830 - val_loss: 0.9281 - val_accuracy: 0.5532\n",
            "Epoch 2/15\n",
            "65/65 [==============================] - 61s 936ms/step - loss: 0.2413 - accuracy: 0.8928 - val_loss: 1.0604 - val_accuracy: 0.6494\n",
            "Epoch 3/15\n",
            "65/65 [==============================] - 61s 937ms/step - loss: 0.1075 - accuracy: 0.9563 - val_loss: 1.1636 - val_accuracy: 0.6909\n",
            "Epoch 4/15\n",
            "65/65 [==============================] - 61s 942ms/step - loss: 0.0735 - accuracy: 0.9701 - val_loss: 1.4261 - val_accuracy: 0.7224\n",
            "Epoch 5/15\n",
            "65/65 [==============================] - 61s 938ms/step - loss: 0.0686 - accuracy: 0.9726 - val_loss: 1.0167 - val_accuracy: 0.7124\n",
            "Epoch 6/15\n",
            "65/65 [==============================] - 62s 958ms/step - loss: 0.0572 - accuracy: 0.9790 - val_loss: 0.9196 - val_accuracy: 0.8342\n",
            "Epoch 7/15\n",
            "65/65 [==============================] - 62s 949ms/step - loss: 0.0630 - accuracy: 0.9765 - val_loss: 0.9704 - val_accuracy: 0.8118\n",
            "Epoch 8/15\n",
            "65/65 [==============================] - 62s 947ms/step - loss: 0.0353 - accuracy: 0.9877 - val_loss: 1.1518 - val_accuracy: 0.7549\n",
            "Epoch 9/15\n",
            "65/65 [==============================] - 63s 972ms/step - loss: 0.0443 - accuracy: 0.9841 - val_loss: 0.7105 - val_accuracy: 0.8701\n",
            "Epoch 10/15\n",
            "65/65 [==============================] - 61s 943ms/step - loss: 0.0491 - accuracy: 0.9814 - val_loss: 1.0793 - val_accuracy: 0.8044\n",
            "Epoch 11/15\n",
            "65/65 [==============================] - 61s 944ms/step - loss: 0.0302 - accuracy: 0.9893 - val_loss: 0.9774 - val_accuracy: 0.8411\n",
            "Epoch 12/15\n",
            "65/65 [==============================] - 61s 938ms/step - loss: 0.0248 - accuracy: 0.9912 - val_loss: 0.8646 - val_accuracy: 0.8462\n",
            "Epoch 13/15\n",
            "65/65 [==============================] - 61s 937ms/step - loss: 0.0304 - accuracy: 0.9884 - val_loss: 0.9435 - val_accuracy: 0.7776\n",
            "Epoch 14/15\n",
            "65/65 [==============================] - 61s 941ms/step - loss: 0.0240 - accuracy: 0.9917 - val_loss: 0.8931 - val_accuracy: 0.7805\n",
            "Epoch 15/15\n",
            "65/65 [==============================] - 60s 916ms/step - loss: 0.0257 - accuracy: 0.9919 - val_loss: 0.8712 - val_accuracy: 0.8269\n"
          ],
          "name": "stdout"
        }
      ]
    },
    {
      "cell_type": "code",
      "metadata": {
        "id": "SZ1LeJwyqtD-",
        "outputId": "97a20136-c439-452f-8c57-7957c69b3ef7",
        "colab": {
          "base_uri": "https://localhost:8080/",
          "height": 571
        }
      },
      "source": [
        "trained_model_1 = model_1.fit_generator(\n",
        "    train_data_gen_1,\n",
        "    steps_per_epoch=total_train_1 // batch_size,\n",
        "    epochs=epochs,\n",
        "    validation_data=val_data_gen_1,\n",
        "    validation_steps=total_val_1 // batch_size\n",
        ")"
      ],
      "execution_count": null,
      "outputs": [
        {
          "output_type": "stream",
          "text": [
            "WARNING:tensorflow:From <ipython-input-12-2401ab36538a>:6: Model.fit_generator (from tensorflow.python.keras.engine.training) is deprecated and will be removed in a future version.\n",
            "Instructions for updating:\n",
            "Please use Model.fit, which supports generators.\n",
            "Epoch 1/15\n",
            "65/65 [==============================] - 3719s 57s/step - loss: 0.6812 - accuracy: 0.6830 - val_loss: 0.9281 - val_accuracy: 0.5532\n",
            "Epoch 2/15\n",
            "65/65 [==============================] - 61s 936ms/step - loss: 0.2413 - accuracy: 0.8928 - val_loss: 1.0604 - val_accuracy: 0.6494\n",
            "Epoch 3/15\n",
            "65/65 [==============================] - 61s 937ms/step - loss: 0.1075 - accuracy: 0.9563 - val_loss: 1.1636 - val_accuracy: 0.6909\n",
            "Epoch 4/15\n",
            "65/65 [==============================] - 61s 942ms/step - loss: 0.0735 - accuracy: 0.9701 - val_loss: 1.4261 - val_accuracy: 0.7224\n",
            "Epoch 5/15\n",
            "65/65 [==============================] - 61s 938ms/step - loss: 0.0686 - accuracy: 0.9726 - val_loss: 1.0167 - val_accuracy: 0.7124\n",
            "Epoch 6/15\n",
            "65/65 [==============================] - 62s 958ms/step - loss: 0.0572 - accuracy: 0.9790 - val_loss: 0.9196 - val_accuracy: 0.8342\n",
            "Epoch 7/15\n",
            "65/65 [==============================] - 62s 949ms/step - loss: 0.0630 - accuracy: 0.9765 - val_loss: 0.9704 - val_accuracy: 0.8118\n",
            "Epoch 8/15\n",
            "65/65 [==============================] - 62s 947ms/step - loss: 0.0353 - accuracy: 0.9877 - val_loss: 1.1518 - val_accuracy: 0.7549\n",
            "Epoch 9/15\n",
            "65/65 [==============================] - 63s 972ms/step - loss: 0.0443 - accuracy: 0.9841 - val_loss: 0.7105 - val_accuracy: 0.8701\n",
            "Epoch 10/15\n",
            "65/65 [==============================] - 61s 943ms/step - loss: 0.0491 - accuracy: 0.9814 - val_loss: 1.0793 - val_accuracy: 0.8044\n",
            "Epoch 11/15\n",
            "65/65 [==============================] - 61s 944ms/step - loss: 0.0302 - accuracy: 0.9893 - val_loss: 0.9774 - val_accuracy: 0.8411\n",
            "Epoch 12/15\n",
            "65/65 [==============================] - 61s 938ms/step - loss: 0.0248 - accuracy: 0.9912 - val_loss: 0.8646 - val_accuracy: 0.8462\n",
            "Epoch 13/15\n",
            "65/65 [==============================] - 61s 937ms/step - loss: 0.0304 - accuracy: 0.9884 - val_loss: 0.9435 - val_accuracy: 0.7776\n",
            "Epoch 14/15\n",
            "65/65 [==============================] - 61s 941ms/step - loss: 0.0240 - accuracy: 0.9917 - val_loss: 0.8931 - val_accuracy: 0.7805\n",
            "Epoch 15/15\n",
            "65/65 [==============================] - 60s 916ms/step - loss: 0.0257 - accuracy: 0.9919 - val_loss: 0.8712 - val_accuracy: 0.8269\n"
          ],
          "name": "stdout"
        }
      ]
    },
    {
      "cell_type": "code",
      "metadata": {
        "id": "3jx0vevzqsJ1",
        "outputId": "97a20136-c439-452f-8c57-7957c69b3ef7",
        "colab": {
          "base_uri": "https://localhost:8080/",
          "height": 571
        }
      },
      "source": [
        "trained_model_2 = model_2.fit_generator(\n",
        "    train_data_gen_2,\n",
        "    steps_per_epoch=total_train_2 // batch_size,\n",
        "    epochs=epochs,\n",
        "    validation_data=val_data_gen_2,\n",
        "    validation_steps=total_val_2 // batch_size\n",
        ")"
      ],
      "execution_count": null,
      "outputs": [
        {
          "output_type": "stream",
          "text": [
            "WARNING:tensorflow:From <ipython-input-12-2401ab36538a>:6: Model.fit_generator (from tensorflow.python.keras.engine.training) is deprecated and will be removed in a future version.\n",
            "Instructions for updating:\n",
            "Please use Model.fit, which supports generators.\n",
            "Epoch 1/15\n",
            "65/65 [==============================] - 3719s 57s/step - loss: 0.6812 - accuracy: 0.6830 - val_loss: 0.9281 - val_accuracy: 0.5532\n",
            "Epoch 2/15\n",
            "65/65 [==============================] - 61s 936ms/step - loss: 0.2413 - accuracy: 0.8928 - val_loss: 1.0604 - val_accuracy: 0.6494\n",
            "Epoch 3/15\n",
            "65/65 [==============================] - 61s 937ms/step - loss: 0.1075 - accuracy: 0.9563 - val_loss: 1.1636 - val_accuracy: 0.6909\n",
            "Epoch 4/15\n",
            "65/65 [==============================] - 61s 942ms/step - loss: 0.0735 - accuracy: 0.9701 - val_loss: 1.4261 - val_accuracy: 0.7224\n",
            "Epoch 5/15\n",
            "65/65 [==============================] - 61s 938ms/step - loss: 0.0686 - accuracy: 0.9726 - val_loss: 1.0167 - val_accuracy: 0.7124\n",
            "Epoch 6/15\n",
            "65/65 [==============================] - 62s 958ms/step - loss: 0.0572 - accuracy: 0.9790 - val_loss: 0.9196 - val_accuracy: 0.8342\n",
            "Epoch 7/15\n",
            "65/65 [==============================] - 62s 949ms/step - loss: 0.0630 - accuracy: 0.9765 - val_loss: 0.9704 - val_accuracy: 0.8118\n",
            "Epoch 8/15\n",
            "65/65 [==============================] - 62s 947ms/step - loss: 0.0353 - accuracy: 0.9877 - val_loss: 1.1518 - val_accuracy: 0.7549\n",
            "Epoch 9/15\n",
            "65/65 [==============================] - 63s 972ms/step - loss: 0.0443 - accuracy: 0.9841 - val_loss: 0.7105 - val_accuracy: 0.8701\n",
            "Epoch 10/15\n",
            "65/65 [==============================] - 61s 943ms/step - loss: 0.0491 - accuracy: 0.9814 - val_loss: 1.0793 - val_accuracy: 0.8044\n",
            "Epoch 11/15\n",
            "65/65 [==============================] - 61s 944ms/step - loss: 0.0302 - accuracy: 0.9893 - val_loss: 0.9774 - val_accuracy: 0.8411\n",
            "Epoch 12/15\n",
            "65/65 [==============================] - 61s 938ms/step - loss: 0.0248 - accuracy: 0.9912 - val_loss: 0.8646 - val_accuracy: 0.8462\n",
            "Epoch 13/15\n",
            "65/65 [==============================] - 61s 937ms/step - loss: 0.0304 - accuracy: 0.9884 - val_loss: 0.9435 - val_accuracy: 0.7776\n",
            "Epoch 14/15\n",
            "65/65 [==============================] - 61s 941ms/step - loss: 0.0240 - accuracy: 0.9917 - val_loss: 0.8931 - val_accuracy: 0.7805\n",
            "Epoch 15/15\n",
            "65/65 [==============================] - 60s 916ms/step - loss: 0.0257 - accuracy: 0.9919 - val_loss: 0.8712 - val_accuracy: 0.8269\n"
          ],
          "name": "stdout"
        }
      ]
    },
    {
      "cell_type": "markdown",
      "metadata": {
        "id": "2wjQoEj_2T1O"
      },
      "source": [
        "# 可视化模型\n",
        "训练后可视化新模型，训练模型更多的时间后，准确性提高"
      ]
    },
    {
      "cell_type": "code",
      "metadata": {
        "id": "ttmnonns2ZDX",
        "outputId": "51c09c23-63be-410c-e712-196345673ea7",
        "colab": {
          "base_uri": "https://localhost:8080/",
          "height": 499
        }
      },
      "source": [
        "acc = trained_model.history['accuracy']\n",
        "val_acc = trained_model.history['val_accuracy']\n",
        "\n",
        "loss = trained_model.history['loss']\n",
        "val_loss = trained_model.history['val_loss']\n",
        "\n",
        "epochs_range = range(epochs)\n",
        "\n",
        "plt.figure(figsize=(8, 8))\n",
        "plt.subplot(1, 2, 1)\n",
        "plt.plot(epochs_range, acc, label='Training Accuracy')\n",
        "plt.plot(epochs_range, val_acc, label='Validation Accuracy')\n",
        "plt.legend(loc='lower right')\n",
        "plt.title('Training and Validation Accuracy')\n",
        "\n",
        "plt.subplot(1, 2, 2)\n",
        "plt.plot(epochs_range, loss, label='Training Loss')\n",
        "plt.plot(epochs_range, val_loss, label='Validation Loss')\n",
        "plt.legend(loc='upper right')\n",
        "plt.title('Training and Validation Loss')\n",
        "plt.show()"
      ],
      "execution_count": 13,
      "outputs": [
        {
          "output_type": "display_data",
          "data": {
            "image/png": "[encoded data removed]",
            "text/plain": [
              "<Figure size 576x576 with 2 Axes>"
            ]
          },
          "metadata": {
            "tags": [],
            "needs_background": "light"
          }
        }
      ]
    },
    {
      "cell_type": "code",
      "metadata": {
        "id": "jMD-pjD2rb7B",
        "outputId": "51c09c23-63be-410c-e712-196345673ea7",
        "colab": {
          "base_uri": "https://localhost:8080/",
          "height": 499
        }
      },
      "source": [
        "acc_1 = trained_model_1.history['accuracy']\n",
        "val_acc_1 = trained_model_1.history['val_accuracy']\n",
        "\n",
        "loss_1 = trained_model_1.history['loss']\n",
        "val_loss_1 = trained_model_1.history['val_loss']\n",
        "\n",
        "epochs_range = range(epochs)\n",
        "\n",
        "plt.figure(figsize=(8, 8))\n",
        "plt.subplot(1, 2, 1)\n",
        "plt.plot(epochs_range, acc_1, label='Training Accuracy of 1')\n",
        "plt.plot(epochs_range, val_acc_1, label='Validation Accuracy of 1')\n",
        "plt.legend(loc='lower right')\n",
        "plt.title('Training and Validation Accuracy of 1')\n",
        "\n",
        "plt.subplot(1, 2, 2)\n",
        "plt.plot(epochs_range, loss_1, label='Training Loss of 1')\n",
        "plt.plot(epochs_range, val_loss_1, label='Validation Loss of 1')\n",
        "plt.legend(loc='upper right')\n",
        "plt.title('Training and Validation Loss of 1')\n",
        "plt.show()"
      ],
      "execution_count": null,
      "outputs": [
        {
          "output_type": "display_data",
          "data": {
            "image/png": "[encoded data removed]",
            "text/plain": [
              "<Figure size 576x576 with 2 Axes>"
            ]
          },
          "metadata": {
            "tags": [],
            "needs_background": "light"
          }
        }
      ]
    },
    {
      "cell_type": "code",
      "metadata": {
        "id": "5q2jx9yFrpd8",
        "outputId": "51c09c23-63be-410c-e712-196345673ea7",
        "colab": {
          "base_uri": "https://localhost:8080/",
          "height": 499
        }
      },
      "source": [
        "acc_2 = trained_model_2.history['accuracy']\n",
        "val_acc_2 = trained_model_2.history['val_accuracy']\n",
        "\n",
        "loss_2 = trained_model_2.history['loss']\n",
        "val_loss_2 = trained_model_2.history['val_loss']\n",
        "\n",
        "epochs_range = range(epochs)\n",
        "\n",
        "plt.figure(figsize=(8, 8))\n",
        "plt.subplot(1, 2, 1)\n",
        "plt.plot(epochs_range, acc_2, label='Training Accuracy of 2')\n",
        "plt.plot(epochs_range, val_acc_2, label='Validation Accuracy of 2')\n",
        "plt.legend(loc='lower right')\n",
        "plt.title('Training and Validation Accuracy of 2')\n",
        "\n",
        "plt.subplot(1, 2, 2)\n",
        "plt.plot(epochs_range, loss_2, label='Training Loss of 2')\n",
        "plt.plot(epochs_range, val_loss_2, label='Validation Loss of 2')\n",
        "plt.legend(loc='upper right')\n",
        "plt.title('Training and Validation Loss of 2')\n",
        "plt.show()"
      ],
      "execution_count": null,
      "outputs": [
        {
          "output_type": "display_data",
          "data": {
            "image/png": "[encoded data removed]",
            "text/plain": [
              "<Figure size 576x576 with 2 Axes>"
            ]
          },
          "metadata": {
            "tags": [],
            "needs_background": "light"
          }
        }
      ]
    },
    {
      "cell_type": "markdown",
      "metadata": {
        "id": "Q7VRUqcRRzXl"
      },
      "source": [
        "# 对新数据进行预测\n",
        "最后，让我们使用训练出来的数据对新数据进行预测"
      ]
    },
    {
      "cell_type": "code",
      "metadata": {
        "id": "NRLrYijeOdJY"
      },
      "source": [
        "from PIL import Image\n",
        "import matplotlib.pyplot as plt\n",
        "import numpy as np\n",
        "\n",
        "count_real = 0\n",
        "count_fake = 0\n",
        "\n",
        "test_PATH = \"/content/drive/My Drive/dataset/train/fake/5217.jpg\"\n",
        "path = \"/content/drive/My Drive/dataset/train/fake\"\n",
        "os.chdir(path)\n",
        "os.listdir(path)\n",
        "\n",
        "img = Image.open(\"5217.jpg\")\n",
        "print(img.mode)\n",
        "plt.figure(\"img\")\n",
        "plt.imshow(img)\n",
        "plt.show()\n",
        "\n",
        "img = keras.preprocessing.image.load_img(\n",
        "    test_PATH, target_size=(img_height, img_width)\n",
        ")\n",
        "img_array = keras.preprocessing.image.img_to_array(img)\n",
        "img_array = tf.expand_dims(img_array, 0) # Create a batch\n",
        "\n",
        "predictions = model.predict(img_array)\n",
        "predictions_1 = model_1.predict(img_array)\n",
        "predictions_2 = model_2.predict(img_array)\n",
        "\n",
        "if predictions == 'real':\n",
        "  count_real = count_real + 1\n",
        "else:\n",
        "  count_fake = count_fake + 1\n",
        "\n",
        "if predictions_1 == 'real':\n",
        "  count_real = count_real + 1\n",
        "else:\n",
        "  count_fake = count_fake + 1\n",
        "\n",
        "if predictions_2 == 'real':\n",
        "  count_real = count_real + 1\n",
        "else:\n",
        "  count_fake = count_fake + 1\n",
        "\n",
        "if count_real > count_fake:\n",
        "  print(\"this face is real\")\n",
        "else:\n",
        "  print(\"this face is fake\")"
      ],
      "execution_count": null,
      "outputs": []
    }
  ]
}