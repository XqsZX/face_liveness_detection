{
  "nbformat": 4,
  "nbformat_minor": 0,
  "metadata": {
    "colab": {
      "name": "face_liveness_detection.ipynb",
      "provenance": [],
      "authorship_tag": "ABX9TyN01qx0v9WdeXuMSnBTpPaw",
      "include_colab_link": true
    },
    "kernelspec": {
      "name": "python3",
      "display_name": "Python 3"
    },
    "accelerator": "GPU"
  },
  "cells": [
    {
      "cell_type": "markdown",
      "metadata": {
        "id": "view-in-github",
        "colab_type": "text"
      },
      "source": [
        "<a href=\"https://colab.research.google.com/github/XqsZX/face_liveness_detection/blob/master/face_liveness_detection_version1.0.ipynb\" target=\"_parent\"><img src=\"https://colab.research.google.com/assets/colab-badge.svg\" alt=\"Open In Colab\"/></a>"
      ]
    },
    {
      "cell_type": "markdown",
      "metadata": {
        "id": "66bPPZgy-RQP",
        "colab_type": "text"
      },
      "source": [
        "# 导入包\n",
        "该os软件包用于读取文件和目录结构，NumPy用于将python列表转换为numpy数组，并执行所需的矩阵运算，matplotlib.pyplot并在训练和验证数据中绘制图形并显示图像。导入Tensorflow和构建模型所需的Keras类。"
      ]
    },
    {
      "cell_type": "code",
      "metadata": {
        "id": "LN8632Xw-Zde",
        "colab_type": "code",
        "colab": {}
      },
      "source": [
        "import tensorflow as tf\n",
        "\n",
        "from tensorflow.keras.models import Sequential\n",
        "from tensorflow.keras.layers import Dense, Conv2D, Flatten, Dropout, MaxPooling2D\n",
        "from tensorflow.keras.preprocessing.image import ImageDataGenerator\n",
        "\n",
        "import os\n",
        "import numpy as np\n",
        "import matplotlib.pyplot as plt"
      ],
      "execution_count": 0,
      "outputs": []
    },
    {
      "cell_type": "markdown",
      "metadata": {
        "id": "PBB6-BYQ_uen",
        "colab_type": "text"
      },
      "source": [
        "# 载入资料\n",
        "本次实验直接采用真实人脸和照片人脸直接进行CNN卷积，只是一次尝试。\n",
        "首先我们登录谷歌云盘，来导入数据"
      ]
    },
    {
      "cell_type": "code",
      "metadata": {
        "id": "40pu9Oj8DW4c",
        "colab_type": "code",
        "outputId": "5602de3a-f343-4ed8-db50-c00b169e5972",
        "colab": {
          "base_uri": "https://localhost:8080/",
          "height": 121
        }
      },
      "source": [
        "import os\n",
        "from google.colab import drive\n",
        "drive.mount('/content/drive')"
      ],
      "execution_count": 2,
      "outputs": [
        {
          "output_type": "stream",
          "text": [
            "Go to this URL in a browser: https://accounts.google.com/o/oauth2/auth?client_id=947318989803-6bn6qk8qdgf4n4g3pfee6491hc0brc4i.apps.googleusercontent.com&redirect_uri=urn%3aietf%3awg%3aoauth%3a2.0%3aoob&response_type=code&scope=email%20https%3a%2f%2fwww.googleapis.com%2fauth%2fdocs.test%20https%3a%2f%2fwww.googleapis.com%2fauth%2fdrive%20https%3a%2f%2fwww.googleapis.com%2fauth%2fdrive.photos.readonly%20https%3a%2f%2fwww.googleapis.com%2fauth%2fpeopleapi.readonly\n",
            "\n",
            "Enter your authorization code:\n",
            "··········\n",
            "Mounted at /content/drive\n"
          ],
          "name": "stdout"
        }
      ]
    },
    {
      "cell_type": "markdown",
      "metadata": {
        "id": "5SswK5UzDyXO",
        "colab_type": "text"
      },
      "source": [
        "对数据进行导入"
      ]
    },
    {
      "cell_type": "code",
      "metadata": {
        "id": "M57WwvU9Grji",
        "colab_type": "code",
        "colab": {}
      },
      "source": [
        "PATH = os.path.join('/content/drive/My Drive/', 'data')"
      ],
      "execution_count": 0,
      "outputs": []
    },
    {
      "cell_type": "markdown",
      "metadata": {
        "id": "T6L0yoVXIB7p",
        "colab_type": "text"
      },
      "source": [
        "**数据集具有以下目录结构：**\n",
        "```cats_and_dogs_filtered\n",
        "|__ train\n",
        "    |______ real: []\n",
        "    |______ fake: []\n",
        "|__ validation\n",
        "    |______ real: []\n",
        "    |______ fake: []\n",
        "```\n",
        "提取其内容后，为变量分配适当的文件路径以用于训练和验证集。\n"
      ]
    },
    {
      "cell_type": "code",
      "metadata": {
        "id": "2iE01qpDIij8",
        "colab_type": "code",
        "colab": {}
      },
      "source": [
        "train_dir = os.path.join(PATH, 'train')\n",
        "validation_dir = os.path.join(PATH, 'validation')\n",
        "\n",
        "train_real_dir = os.path.join(train_dir, 'real')  # directory with our training cat pictures\n",
        "train_fake_dir = os.path.join(train_dir, 'fake')  # directory with our training dog pictures\n",
        "validation_real_dir = os.path.join(validation_dir, 'real')  # directory with our validation cat pictures\n",
        "validation_fake_dir = os.path.join(validation_dir, 'fake')  # directory with our validation dog pictures"
      ],
      "execution_count": 0,
      "outputs": []
    },
    {
      "cell_type": "markdown",
      "metadata": {
        "id": "_W835ad0JA9A",
        "colab_type": "text"
      },
      "source": [
        "# 了解数据\n",
        "让我们看看训练和验证目录中有多少真实和虚假的图像："
      ]
    },
    {
      "cell_type": "code",
      "metadata": {
        "id": "PE9k6WtaJCeC",
        "colab_type": "code",
        "outputId": "26676e9d-a58c-454c-a083-dcb3e3a9c3b2",
        "colab": {
          "base_uri": "https://localhost:8080/",
          "height": 134
        }
      },
      "source": [
        "num_real_tr = len(os.listdir(train_real_dir))\n",
        "num_fake_tr = len(os.listdir(train_fake_dir))\n",
        "\n",
        "num_real_val = len(os.listdir(validation_real_dir))\n",
        "num_fake_val = len(os.listdir(validation_fake_dir))\n",
        "\n",
        "total_train = num_real_tr + num_fake_tr\n",
        "total_val = num_real_val + num_fake_val\n",
        "\n",
        "print('total training real images:', num_real_tr)\n",
        "print('total training fake images:', num_fake_tr)\n",
        "\n",
        "print('total validation real images:', num_real_val)\n",
        "print('total validation fake images:', num_fake_val)\n",
        "print(\"--\")\n",
        "print(\"Total training images:\", total_train)\n",
        "print(\"Total validation images:\", total_val)"
      ],
      "execution_count": 5,
      "outputs": [
        {
          "output_type": "stream",
          "text": [
            "total training real images: 3128\n",
            "total training fake images: 5293\n",
            "total validation real images: 1987\n",
            "total validation fake images: 2216\n",
            "--\n",
            "Total training images: 8421\n",
            "Total validation images: 4203\n"
          ],
          "name": "stdout"
        }
      ]
    },
    {
      "cell_type": "markdown",
      "metadata": {
        "id": "mAmtfdaCJ97k",
        "colab_type": "text"
      },
      "source": [
        "为了方便起见，设置变量以在预处理数据集和训练网络时使用。"
      ]
    },
    {
      "cell_type": "code",
      "metadata": {
        "id": "RhApgOrFKAqA",
        "colab_type": "code",
        "colab": {}
      },
      "source": [
        "batch_size = 128\n",
        "epochs = 15\n",
        "IMG_HEIGHT = 150\n",
        "IMG_WIDTH = 150"
      ],
      "execution_count": 0,
      "outputs": []
    },
    {
      "cell_type": "markdown",
      "metadata": {
        "id": "Wcd6joxnKC0W",
        "colab_type": "text"
      },
      "source": [
        "# 资料准备\n",
        "将图像格式化为经过适当预处理的浮点张量，然后再馈入网络：\n",
        "\n",
        "1. 从磁盘读取图像\n",
        "2. 解码这些图像的内同，并根据其RGB内容将其转换为正确的网格格式\n",
        "3. 将它们转换为浮点张量\n",
        "4. 将张量从0到255之间的值重新缩放为0到1之间的值，因为神经网络更喜欢处理较小的输入值\n",
        "\n",
        "\n",
        "解码这些图像的内容，并根据其RGB内容将其转换为正确的网格格式。\n",
        "将它们转换为浮点张量。\n",
        "将张量从0到255之间的值重新缩放为0到1之间的值，因为神经网络更喜欢处理较小的输入值。\n",
        "幸运的是，所有这些任务都可以通过提供的ImageDataGenerator类来完成tf.keras。它可以从磁盘读取图像并将其预处理为适当的张量。它还将设置将这些图像转换成张量的生成器，这对于训练网络很有帮助。"
      ]
    },
    {
      "cell_type": "markdown",
      "metadata": {
        "id": "loyk0c-VnRdI",
        "colab_type": "text"
      },
      "source": [
        "训练量很少时，通常会发生过度拟合。解决此问题的一种方法是扩充数据集，使其具有足够数量的训练示例。数据增强采用通过使用产生真实感图像的随机变换增强样本来从现有训练样本生成更多训练数据的方法。目标是模型在训练期间永远不会看到两次完全相同的图片。这有助于使模型暴露于数据的更多方面，并且可以更好地进行概括。\n",
        "\n",
        "tf.keras使用ImageDataGenerator类来实现这一点。将不同的转换传递给数据集，它将在训练过程中加以应用。\n",
        "对训练图像进行重新缩放，45度旋转，宽度偏移，高度偏移，水平翻转和缩放增强。防止出现过拟合的情况"
      ]
    },
    {
      "cell_type": "code",
      "metadata": {
        "id": "cYJ89CmCnhfN",
        "colab_type": "code",
        "colab": {
          "base_uri": "https://localhost:8080/",
          "height": 34
        },
        "outputId": "6d5f3cc1-90d4-43ba-fb11-261690b0a53e"
      },
      "source": [
        "image_gen_train = ImageDataGenerator(rescale=1./255,rotation_range=45,width_shift_range=.15,height_shift_range=.15,horizontal_flip=True,zoom_range=0.5)\n",
        "train_data_gen = image_gen_train.flow_from_directory(batch_size=batch_size,directory=train_dir,shuffle=True,target_size=(IMG_HEIGHT, IMG_WIDTH),class_mode='binary')"
      ],
      "execution_count": 7,
      "outputs": [
        {
          "output_type": "stream",
          "text": [
            "Found 8421 images belonging to 2 classes.\n"
          ],
          "name": "stdout"
        }
      ]
    },
    {
      "cell_type": "markdown",
      "metadata": {
        "id": "JdfU_oJPsFZL",
        "colab_type": "text"
      },
      "source": [
        "**创建验证数据生成器**\n",
        "\n",
        "通常，仅将数据扩充应用于训练示例。在这种情况下，仅重新缩放验证图像，然后使用将它们转换为批次ImageDataGenerator。"
      ]
    },
    {
      "cell_type": "code",
      "metadata": {
        "id": "0tBSQU9vsLtF",
        "colab_type": "code",
        "colab": {
          "base_uri": "https://localhost:8080/",
          "height": 34
        },
        "outputId": "89fa9d18-1611-407a-a1cb-a0450f970c6f"
      },
      "source": [
        "image_gen_val = ImageDataGenerator(rescale=1./255)\n",
        "val_data_gen = image_gen_val.flow_from_directory(batch_size=batch_size,directory=validation_dir,target_size=(IMG_HEIGHT, IMG_WIDTH),class_mode='binary')"
      ],
      "execution_count": 13,
      "outputs": [
        {
          "output_type": "stream",
          "text": [
            "Found 4203 images belonging to 2 classes.\n"
          ],
          "name": "stdout"
        }
      ]
    },
    {
      "cell_type": "markdown",
      "metadata": {
        "id": "hfLYQqJ1ug5T",
        "colab_type": "text"
      },
      "source": [
        "# 构建神经网络\n",
        "减少过度拟合的另一种技术是将丢失引入网络。这是一种正则化形式，它迫使网络中的权重仅取较小的值，这使得权重值的分配更加规则，并且网络可以减少在小的训练样本上的过度拟合。\n",
        "\n",
        "当您在图层上应用滤除时，它会在训练过程中从所应用的图层中随机滤除（设置为零）数量的输出单位。dropout采用分数形式作为其输入值，形式为0.1、0.2、0.4等。这意味着从所施加的层中随机退出输出单元的10％，20％或40％。将0.1的dropout应用于某个图层时，它会在每个训练时期随机杀死10％的输出单位。使用此新的dropout功能创建网络体系结构，并将其应用于不同的卷积和完全连接的层。"
      ]
    },
    {
      "cell_type": "code",
      "metadata": {
        "id": "6-YNsBxnznUo",
        "colab_type": "code",
        "colab": {}
      },
      "source": [
        "model_new = Sequential([\n",
        "    Conv2D(16, 3, padding='same', activation='relu', \n",
        "           input_shape=(IMG_HEIGHT, IMG_WIDTH ,3)),\n",
        "    MaxPooling2D(),\n",
        "    Dropout(0.2),\n",
        "    Conv2D(32, 3, padding='same', activation='relu'),\n",
        "    MaxPooling2D(),\n",
        "    Conv2D(64, 3, padding='same', activation='relu'),\n",
        "    MaxPooling2D(),\n",
        "    Dropout(0.2),\n",
        "    Flatten(),\n",
        "    Dense(512, activation='relu'),\n",
        "    Dense(1)\n",
        "])"
      ],
      "execution_count": 0,
      "outputs": []
    },
    {
      "cell_type": "markdown",
      "metadata": {
        "id": "qN7Z7YaJz77X",
        "colab_type": "text"
      },
      "source": [
        "# 编译模型\n",
        "将辍学引入网络后，编译模型并查看图层摘要。"
      ]
    },
    {
      "cell_type": "code",
      "metadata": {
        "id": "nrpadyhez9jl",
        "colab_type": "code",
        "colab": {
          "base_uri": "https://localhost:8080/",
          "height": 521
        },
        "outputId": "0bbc4fe7-1bf3-4b29-b8ae-43bc1b9d26b4"
      },
      "source": [
        "model_new.compile(optimizer='adam',loss=tf.keras.losses.BinaryCrossentropy(from_logits=True),metrics=['accuracy'])\n",
        "model_new.summary()"
      ],
      "execution_count": 15,
      "outputs": [
        {
          "output_type": "stream",
          "text": [
            "Model: \"sequential\"\n",
            "_________________________________________________________________\n",
            "Layer (type)                 Output Shape              Param #   \n",
            "=================================================================\n",
            "conv2d (Conv2D)              (None, 150, 150, 16)      448       \n",
            "_________________________________________________________________\n",
            "max_pooling2d (MaxPooling2D) (None, 75, 75, 16)        0         \n",
            "_________________________________________________________________\n",
            "dropout (Dropout)            (None, 75, 75, 16)        0         \n",
            "_________________________________________________________________\n",
            "conv2d_1 (Conv2D)            (None, 75, 75, 32)        4640      \n",
            "_________________________________________________________________\n",
            "max_pooling2d_1 (MaxPooling2 (None, 37, 37, 32)        0         \n",
            "_________________________________________________________________\n",
            "conv2d_2 (Conv2D)            (None, 37, 37, 64)        18496     \n",
            "_________________________________________________________________\n",
            "max_pooling2d_2 (MaxPooling2 (None, 18, 18, 64)        0         \n",
            "_________________________________________________________________\n",
            "dropout_1 (Dropout)          (None, 18, 18, 64)        0         \n",
            "_________________________________________________________________\n",
            "flatten (Flatten)            (None, 20736)             0         \n",
            "_________________________________________________________________\n",
            "dense (Dense)                (None, 512)               10617344  \n",
            "_________________________________________________________________\n",
            "dense_1 (Dense)              (None, 1)                 513       \n",
            "=================================================================\n",
            "Total params: 10,641,441\n",
            "Trainable params: 10,641,441\n",
            "Non-trainable params: 0\n",
            "_________________________________________________________________\n"
          ],
          "name": "stdout"
        }
      ]
    },
    {
      "cell_type": "markdown",
      "metadata": {
        "id": "0e5YfHV61EWM",
        "colab_type": "text"
      },
      "source": [
        "# 训练模型\n",
        "在将数据扩充成功地引入到训练示例并向网络中添加了dropout之后，训练这个新网络："
      ]
    },
    {
      "cell_type": "code",
      "metadata": {
        "id": "gYRViPrL2DAT",
        "colab_type": "code",
        "colab": {
          "base_uri": "https://localhost:8080/",
          "height": 571
        },
        "outputId": "a4e97d3c-7423-4978-e42d-c56f1fb557c2"
      },
      "source": [
        "history = model_new.fit_generator(\n",
        "    train_data_gen,\n",
        "    steps_per_epoch=total_train // batch_size,\n",
        "    epochs=epochs,\n",
        "    validation_data=val_data_gen,\n",
        "    validation_steps=total_val // batch_size\n",
        ")"
      ],
      "execution_count": 16,
      "outputs": [
        {
          "output_type": "stream",
          "text": [
            "WARNING:tensorflow:From <ipython-input-16-2401ab36538a>:6: Model.fit_generator (from tensorflow.python.keras.engine.training) is deprecated and will be removed in a future version.\n",
            "Instructions for updating:\n",
            "Please use Model.fit, which supports generators.\n",
            "Epoch 1/15\n",
            "65/65 [==============================] - 3358s 52s/step - loss: 0.7659 - accuracy: 0.6525 - val_loss: 0.9669 - val_accuracy: 0.5344\n",
            "Epoch 2/15\n",
            "65/65 [==============================] - 60s 928ms/step - loss: 0.4762 - accuracy: 0.8015 - val_loss: 0.7880 - val_accuracy: 0.7439\n",
            "Epoch 3/15\n",
            "65/65 [==============================] - 60s 919ms/step - loss: 0.2611 - accuracy: 0.8888 - val_loss: 0.9030 - val_accuracy: 0.7424\n",
            "Epoch 4/15\n",
            "65/65 [==============================] - 60s 923ms/step - loss: 0.1459 - accuracy: 0.9380 - val_loss: 0.9373 - val_accuracy: 0.7395\n",
            "Epoch 5/15\n",
            "65/65 [==============================] - 59s 914ms/step - loss: 0.1063 - accuracy: 0.9566 - val_loss: 1.0284 - val_accuracy: 0.6936\n",
            "Epoch 6/15\n",
            "65/65 [==============================] - 61s 931ms/step - loss: 0.0958 - accuracy: 0.9617 - val_loss: 0.7098 - val_accuracy: 0.7925\n",
            "Epoch 7/15\n",
            "65/65 [==============================] - 60s 921ms/step - loss: 0.0651 - accuracy: 0.9737 - val_loss: 0.9798 - val_accuracy: 0.7163\n",
            "Epoch 8/15\n",
            "65/65 [==============================] - 60s 922ms/step - loss: 0.0577 - accuracy: 0.9777 - val_loss: 1.2270 - val_accuracy: 0.7153\n",
            "Epoch 9/15\n",
            "65/65 [==============================] - 60s 923ms/step - loss: 0.3102 - accuracy: 0.8828 - val_loss: 1.1276 - val_accuracy: 0.8088\n",
            "Epoch 10/15\n",
            "65/65 [==============================] - 60s 923ms/step - loss: 0.0913 - accuracy: 0.9615 - val_loss: 0.9393 - val_accuracy: 0.8662\n",
            "Epoch 11/15\n",
            "65/65 [==============================] - 60s 931ms/step - loss: 0.0607 - accuracy: 0.9754 - val_loss: 0.7212 - val_accuracy: 0.8513\n",
            "Epoch 12/15\n",
            "65/65 [==============================] - 60s 924ms/step - loss: 0.0501 - accuracy: 0.9800 - val_loss: 1.0278 - val_accuracy: 0.8782\n",
            "Epoch 13/15\n",
            "65/65 [==============================] - 60s 924ms/step - loss: 0.0448 - accuracy: 0.9828 - val_loss: 2.0284 - val_accuracy: 0.7776\n",
            "Epoch 14/15\n",
            "65/65 [==============================] - 60s 922ms/step - loss: 0.0415 - accuracy: 0.9854 - val_loss: 1.2301 - val_accuracy: 0.8608\n",
            "Epoch 15/15\n",
            "65/65 [==============================] - 60s 921ms/step - loss: 0.0384 - accuracy: 0.9866 - val_loss: 1.4008 - val_accuracy: 0.8325\n"
          ],
          "name": "stdout"
        }
      ]
    },
    {
      "cell_type": "markdown",
      "metadata": {
        "id": "2wjQoEj_2T1O",
        "colab_type": "text"
      },
      "source": [
        "# 可视化模型\n",
        "训练后可视化新模型，训练模型更多的时间后，准确性提高"
      ]
    },
    {
      "cell_type": "code",
      "metadata": {
        "id": "ttmnonns2ZDX",
        "colab_type": "code",
        "colab": {
          "base_uri": "https://localhost:8080/",
          "height": 499
        },
        "outputId": "93b10d26-f54d-4515-a8ed-647b241e57e6"
      },
      "source": [
        "acc = history.history['accuracy']\n",
        "val_acc = history.history['val_accuracy']\n",
        "\n",
        "loss = history.history['loss']\n",
        "val_loss = history.history['val_loss']\n",
        "\n",
        "epochs_range = range(epochs)\n",
        "\n",
        "plt.figure(figsize=(8, 8))\n",
        "plt.subplot(1, 2, 1)\n",
        "plt.plot(epochs_range, acc, label='Training Accuracy')\n",
        "plt.plot(epochs_range, val_acc, label='Validation Accuracy')\n",
        "plt.legend(loc='lower right')\n",
        "plt.title('Training and Validation Accuracy')\n",
        "\n",
        "plt.subplot(1, 2, 2)\n",
        "plt.plot(epochs_range, loss, label='Training Loss')\n",
        "plt.plot(epochs_range, val_loss, label='Validation Loss')\n",
        "plt.legend(loc='upper right')\n",
        "plt.title('Training and Validation Loss')\n",
        "plt.show()"
      ],
      "execution_count": 17,
      "outputs": [
        {
          "output_type": "display_data",
          "data": {
            "image/png": "[encoded data removed]",
            "text/plain": [
              "<Figure size 576x576 with 2 Axes>"
            ]
          },
          "metadata": {
            "tags": [],
            "needs_background": "light"
          }
        }
      ]
    }
  ]
}